{
 "cells": [
  {
   "cell_type": "code",
   "execution_count": 1,
   "metadata": {
    "collapsed": true
   },
   "outputs": [],
   "source": [
    "import numpy as np"
   ]
  },
  {
   "cell_type": "markdown",
   "metadata": {},
   "source": [
    "#### Create an array of 10 elements\n",
    "These are the cubes of the integers 0-9"
   ]
  },
  {
   "cell_type": "code",
   "execution_count": 2,
   "metadata": {},
   "outputs": [
    {
     "data": {
      "text/plain": [
       "array([  0,   1,   8,  27,  64, 125, 216, 343, 512, 729])"
      ]
     },
     "execution_count": 2,
     "metadata": {},
     "output_type": "execute_result"
    }
   ],
   "source": [
    "x = np.arange(10)**3\n",
    "\n",
    "x"
   ]
  },
  {
   "cell_type": "markdown",
   "metadata": {},
   "source": [
    "#### Iterate using a for loop\n",
    "Just like with Python lists, we can iterate over an NDArray with a for loop. "
   ]
  },
  {
   "cell_type": "code",
   "execution_count": 3,
   "metadata": {},
   "outputs": [
    {
     "name": "stdout",
     "output_type": "stream",
     "text": [
      "0\n",
      "1\n",
      "8\n",
      "27\n",
      "64\n",
      "125\n",
      "216\n",
      "343\n",
      "512\n",
      "729\n"
     ]
    }
   ],
   "source": [
    "for i in x:\n",
    "    print(i)"
   ]
  },
  {
   "cell_type": "markdown",
   "metadata": {},
   "source": [
    "#### Iteraring over 2D NDArrays\n",
    "Create an array containing the names of some companies along with their year of founding and the number of employees"
   ]
  },
  {
   "cell_type": "code",
   "execution_count": 4,
   "metadata": {
    "collapsed": true
   },
   "outputs": [],
   "source": [
    "companies = np.array([['Samsung','Microsoft','IBM','Spotify','Flipkart'],\n",
    "                     [1938, 1975, 1911, 2006, 2007],\n",
    "                     [489000, 131000, 380000, 3000, 30000]])"
   ]
  },
  {
   "cell_type": "markdown",
   "metadata": {},
   "source": [
    "#### Iterating over each row in a 2D array\n",
    "Using the 2D array directly in a for loop will allow us to iterate over each row"
   ]
  },
  {
   "cell_type": "code",
   "execution_count": 5,
   "metadata": {},
   "outputs": [
    {
     "name": "stdout",
     "output_type": "stream",
     "text": [
      "Row 0 :  ['Samsung' 'Microsoft' 'IBM' 'Spotify' 'Flipkart']\n",
      "Row 1 :  ['1938' '1975' '1911' '2006' '2007']\n",
      "Row 2 :  ['489000' '131000' '380000' '3000' '30000']\n"
     ]
    }
   ],
   "source": [
    "i = 0\n",
    "for row in companies:\n",
    "    print('Row', i, ': ',row)\n",
    "    i += 1"
   ]
  },
  {
   "cell_type": "markdown",
   "metadata": {},
   "source": [
    "#### The flatten() function\n",
    "This will convert a multidimensional array into a 1D array. By default the flattened array begins with the first row of the original, then the 2nd row is appended and then the third etc. This is called \"row major\" or C-style flattening."
   ]
  },
  {
   "cell_type": "code",
   "execution_count": 6,
   "metadata": {},
   "outputs": [
    {
     "data": {
      "text/plain": [
       "array(['Samsung', 'Microsoft', 'IBM', 'Spotify', 'Flipkart', '1938',\n",
       "       '1975', '1911', '2006', '2007', '489000', '131000', '380000',\n",
       "       '3000', '30000'], dtype='<U9')"
      ]
     },
     "execution_count": 6,
     "metadata": {},
     "output_type": "execute_result"
    }
   ],
   "source": [
    "companies.flatten()"
   ]
  },
  {
   "cell_type": "markdown",
   "metadata": {},
   "source": [
    "#### Column major (Fortran-style) flattening\n",
    "In order for the flattened array to have the columns of the original appended in order, we use F-style flattening. This we can specify in the order argument. The possible values are 'C', 'F', 'A' and 'K'."
   ]
  },
  {
   "cell_type": "code",
   "execution_count": 8,
   "metadata": {},
   "outputs": [
    {
     "name": "stdout",
     "output_type": "stream",
     "text": [
      "Samsung\n",
      "1938\n",
      "489000\n",
      "Microsoft\n",
      "1975\n",
      "131000\n",
      "IBM\n",
      "1911\n",
      "380000\n",
      "Spotify\n",
      "2006\n",
      "3000\n",
      "Flipkart\n",
      "2007\n",
      "30000\n"
     ]
    }
   ],
   "source": [
    "for data in companies.flatten(order = 'F'):\n",
    "    print(data)"
   ]
  },
  {
   "cell_type": "markdown",
   "metadata": {},
   "source": [
    "## nditer\n",
    "Efficient multi-dimensional iterator object to iterate over arrays"
   ]
  },
  {
   "cell_type": "code",
   "execution_count": 9,
   "metadata": {},
   "outputs": [
    {
     "data": {
      "text/plain": [
       "array([[ 0,  1,  2,  3],\n",
       "       [ 4,  5,  6,  7],\n",
       "       [ 8,  9, 10, 11],\n",
       "       [12, 13, 14, 15]])"
      ]
     },
     "execution_count": 9,
     "metadata": {},
     "output_type": "execute_result"
    }
   ],
   "source": [
    "num = np.arange(16).reshape(4,4)\n",
    "\n",
    "num"
   ]
  },
  {
   "cell_type": "code",
   "execution_count": 10,
   "metadata": {},
   "outputs": [
    {
     "name": "stdout",
     "output_type": "stream",
     "text": [
      "0\n",
      "1\n",
      "2\n",
      "3\n",
      "4\n",
      "5\n",
      "6\n",
      "7\n",
      "8\n",
      "9\n",
      "10\n",
      "11\n",
      "12\n",
      "13\n",
      "14\n",
      "15\n"
     ]
    }
   ],
   "source": [
    "for i in np.nditer(num):\n",
    "    print(i)  "
   ]
  },
  {
   "cell_type": "markdown",
   "metadata": {},
   "source": [
    "#### Set the order in which to iterate over the array\n",
    "The default iteration order is C ordering. Here, we use F ordering"
   ]
  },
  {
   "cell_type": "code",
   "execution_count": 11,
   "metadata": {},
   "outputs": [
    {
     "name": "stdout",
     "output_type": "stream",
     "text": [
      "0\n",
      "4\n",
      "8\n",
      "12\n",
      "1\n",
      "5\n",
      "9\n",
      "13\n",
      "2\n",
      "6\n",
      "10\n",
      "14\n",
      "3\n",
      "7\n",
      "11\n",
      "15\n"
     ]
    }
   ],
   "source": [
    "for i in np.nditer(num, order = 'F'):\n",
    "    print(i)  "
   ]
  },
  {
   "cell_type": "markdown",
   "metadata": {},
   "source": [
    "#### Iteration flags\n",
    "There are several flags which we can pass as a list to nditer. To iterate over each column, we use the flag argument with value 'external_loop'"
   ]
  },
  {
   "cell_type": "code",
   "execution_count": 12,
   "metadata": {},
   "outputs": [
    {
     "name": "stdout",
     "output_type": "stream",
     "text": [
      "[ 0  4  8 12]\n",
      "[ 1  5  9 13]\n",
      "[ 2  6 10 14]\n",
      "[ 3  7 11 15]\n"
     ]
    }
   ],
   "source": [
    "for i in np.nditer(num, order = 'F', flags = ['external_loop']):\n",
    "    print(i)  "
   ]
  },
  {
   "cell_type": "markdown",
   "metadata": {},
   "source": [
    "#### Arrays returned by nditer are read-only\n",
    "Trying to modify this array will result in an error"
   ]
  },
  {
   "cell_type": "code",
   "execution_count": 13,
   "metadata": {},
   "outputs": [
    {
     "ename": "ValueError",
     "evalue": "assignment destination is read-only",
     "output_type": "error",
     "traceback": [
      "\u001b[0;31m---------------------------------------------------------------------------\u001b[0m",
      "\u001b[0;31mValueError\u001b[0m                                Traceback (most recent call last)",
      "\u001b[0;32m<ipython-input-13-faaadab1161f>\u001b[0m in \u001b[0;36m<module>\u001b[0;34m()\u001b[0m\n\u001b[1;32m      1\u001b[0m \u001b[0;32mfor\u001b[0m \u001b[0marray\u001b[0m \u001b[0;32min\u001b[0m \u001b[0mnp\u001b[0m\u001b[0;34m.\u001b[0m\u001b[0mnditer\u001b[0m\u001b[0;34m(\u001b[0m\u001b[0mnum\u001b[0m\u001b[0;34m)\u001b[0m\u001b[0;34m:\u001b[0m\u001b[0;34m\u001b[0m\u001b[0m\n\u001b[0;32m----> 2\u001b[0;31m     \u001b[0marray\u001b[0m\u001b[0;34m[\u001b[0m\u001b[0;34m...\u001b[0m\u001b[0;34m]\u001b[0m \u001b[0;34m=\u001b[0m \u001b[0marray\u001b[0m \u001b[0;34m*\u001b[0m \u001b[0marray\u001b[0m\u001b[0;34m\u001b[0m\u001b[0m\n\u001b[0m",
      "\u001b[0;31mValueError\u001b[0m: assignment destination is read-only"
     ]
    }
   ],
   "source": [
    "for array in np.nditer(num):\n",
    "    array[...] = array * array"
   ]
  },
  {
   "cell_type": "markdown",
   "metadata": {},
   "source": [
    "#### Explicitly set the array to be writeable\n",
    "Use the op_flags argument to set the returned array to be read-write"
   ]
  },
  {
   "cell_type": "code",
   "execution_count": 14,
   "metadata": {
    "collapsed": true
   },
   "outputs": [],
   "source": [
    "for array in np.nditer(num, op_flags = ['readwrite']):\n",
    "    array[...] = array * array"
   ]
  },
  {
   "cell_type": "code",
   "execution_count": 15,
   "metadata": {},
   "outputs": [
    {
     "data": {
      "text/plain": [
       "array([[  0,   1,   4,   9],\n",
       "       [ 16,  25,  36,  49],\n",
       "       [ 64,  81, 100, 121],\n",
       "       [144, 169, 196, 225]])"
      ]
     },
     "execution_count": 15,
     "metadata": {},
     "output_type": "execute_result"
    }
   ],
   "source": [
    "num"
   ]
  },
  {
   "cell_type": "code",
   "execution_count": null,
   "metadata": {
    "collapsed": true
   },
   "outputs": [],
   "source": []
  }
 ],
 "metadata": {
  "kernelspec": {
   "display_name": "Python 3",
   "language": "python",
   "name": "python3"
  },
  "language_info": {
   "codemirror_mode": {
    "name": "ipython",
    "version": 3
   },
   "file_extension": ".py",
   "mimetype": "text/x-python",
   "name": "python",
   "nbconvert_exporter": "python",
   "pygments_lexer": "ipython3",
   "version": "3.7.3"
  }
 },
 "nbformat": 4,
 "nbformat_minor": 2
}
